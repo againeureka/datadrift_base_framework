{
 "cells": [
  {
   "cell_type": "markdown",
   "id": "b40ebcfa-d8fe-4121-bf9a-07ba055b8090",
   "metadata": {},
   "source": [
    "# Python 에서 latex 수식 생성\n",
    "\n",
    "```bash\n",
    "pip install latexify-py\n",
    "```"
   ]
  },
  {
   "cell_type": "code",
   "execution_count": 2,
   "id": "66483146-0b17-46ca-8b46-aef1c915ea74",
   "metadata": {},
   "outputs": [
    {
     "name": "stdout",
     "output_type": "stream",
     "text": [
      "Requirement already satisfied: latexify-py in /home/jpark/venv_base/lib/python3.10/site-packages (0.4.4)\n",
      "Requirement already satisfied: dill>=0.3.2 in /home/jpark/venv_base/lib/python3.10/site-packages (from latexify-py) (0.3.8)\n"
     ]
    }
   ],
   "source": [
    "!pip install latexify-py"
   ]
  },
  {
   "cell_type": "code",
   "execution_count": 1,
   "id": "c39f527e-767e-4290-864a-84c6b019320d",
   "metadata": {},
   "outputs": [],
   "source": [
    "import latexify"
   ]
  },
  {
   "cell_type": "code",
   "execution_count": 3,
   "id": "4bd83d1a-da4a-46a4-8a20-36d51287ec2e",
   "metadata": {},
   "outputs": [
    {
     "name": "stdout",
     "output_type": "stream",
     "text": [
      "\\mathrm{my\\_func}(x) = \\sin x + \\cos x\n"
     ]
    }
   ],
   "source": [
    "import latexify\n",
    "import sympy as sp\n",
    "\n",
    "# 함수에 데코레이터 추가\n",
    "@latexify.function\n",
    "def my_func(x):\n",
    "    return sp.sin(x) + sp.cos(x)\n",
    "\n",
    "# Jupyter Notebook에서 함수 호출\n",
    "print(my_func)"
   ]
  },
  {
   "cell_type": "code",
   "execution_count": null,
   "id": "8d35d388-a617-48d0-9bc2-e862d7381ebf",
   "metadata": {},
   "outputs": [],
   "source": []
  }
 ],
 "metadata": {
  "kernelspec": {
   "display_name": "Python 3 (ipykernel)",
   "language": "python",
   "name": "python3"
  },
  "language_info": {
   "codemirror_mode": {
    "name": "ipython",
    "version": 3
   },
   "file_extension": ".py",
   "mimetype": "text/x-python",
   "name": "python",
   "nbconvert_exporter": "python",
   "pygments_lexer": "ipython3",
   "version": "3.10.12"
  }
 },
 "nbformat": 4,
 "nbformat_minor": 5
}
