{
 "cells": [
  {
   "cell_type": "markdown",
   "id": "484269af-ebc4-476a-b59a-4bfcf10f21c4",
   "metadata": {},
   "source": [
    "# datachain\n",
    "\n",
    "- https://github.com/iterative/datachain\n",
    "\n"
   ]
  },
  {
   "cell_type": "markdown",
   "id": "5f206daf-98d8-4f22-96e9-246a90139de8",
   "metadata": {},
   "source": [
    "```bash\n",
    "pip install datachain\n",
    "```\n",
    "\n"
   ]
  },
  {
   "cell_type": "markdown",
   "id": "64e19638-1956-4929-818f-0b5a9f37d7ca",
   "metadata": {},
   "source": [
    "## quick start"
   ]
  },
  {
   "cell_type": "code",
   "execution_count": 3,
   "id": "3c26644e-f22c-4db8-8a19-cd648069e444",
   "metadata": {},
   "outputs": [
    {
     "data": {
      "application/vnd.jupyter.widget-view+json": {
       "model_id": "",
       "version_major": 2,
       "version_minor": 0
      },
      "text/plain": [
       "Preparing: 0 rows [00:00, ? rows/s]"
      ]
     },
     "metadata": {},
     "output_type": "display_data"
    },
    {
     "data": {
      "application/vnd.jupyter.widget-view+json": {
       "model_id": "",
       "version_major": 2,
       "version_minor": 0
      },
      "text/plain": [
       "Download: 0.00B [00:00, ?B/s]"
      ]
     },
     "metadata": {},
     "output_type": "display_data"
    },
    {
     "data": {
      "application/vnd.jupyter.widget-view+json": {
       "model_id": "",
       "version_major": 2,
       "version_minor": 0
      },
      "text/plain": [
       "Processed: 0 rows [00:00, ? rows/s]"
      ]
     },
     "metadata": {},
     "output_type": "display_data"
    },
    {
     "data": {
      "application/vnd.jupyter.widget-view+json": {
       "model_id": "",
       "version_major": 2,
       "version_minor": 0
      },
      "text/plain": [
       "Download: 0.00B [00:00, ?B/s]"
      ]
     },
     "metadata": {},
     "output_type": "display_data"
    },
    {
     "data": {
      "application/vnd.jupyter.widget-view+json": {
       "model_id": "",
       "version_major": 2,
       "version_minor": 0
      },
      "text/plain": [
       "Processed: 0 rows [00:00, ? rows/s]"
      ]
     },
     "metadata": {},
     "output_type": "display_data"
    },
    {
     "data": {
      "application/vnd.jupyter.widget-view+json": {
       "model_id": "",
       "version_major": 2,
       "version_minor": 0
      },
      "text/plain": [
       "Generated: 0 rows [00:00, ? rows/s]"
      ]
     },
     "metadata": {},
     "output_type": "display_data"
    },
    {
     "data": {
      "application/vnd.jupyter.widget-view+json": {
       "model_id": "",
       "version_major": 2,
       "version_minor": 0
      },
      "text/plain": [
       "Cleanup:   0%|          | 0/3 [00:00<?, ? tables/s]"
      ]
     },
     "metadata": {},
     "output_type": "display_data"
    },
    {
     "name": "stderr",
     "output_type": "stream",
     "text": [
      "Exporting files to high-confidence-cats/:   0%|          | 0.00/20.0 [00:00<?, ? files/s]"
     ]
    },
    {
     "data": {
      "application/vnd.jupyter.widget-view+json": {
       "model_id": "",
       "version_major": 2,
       "version_minor": 0
      },
      "text/plain": [
       "Preparing: 0 rows [00:00, ? rows/s]"
      ]
     },
     "metadata": {},
     "output_type": "display_data"
    },
    {
     "data": {
      "application/vnd.jupyter.widget-view+json": {
       "model_id": "",
       "version_major": 2,
       "version_minor": 0
      },
      "text/plain": [
       "Download: 0.00B [00:00, ?B/s]"
      ]
     },
     "metadata": {},
     "output_type": "display_data"
    },
    {
     "data": {
      "application/vnd.jupyter.widget-view+json": {
       "model_id": "",
       "version_major": 2,
       "version_minor": 0
      },
      "text/plain": [
       "Processed: 0 rows [00:00, ? rows/s]"
      ]
     },
     "metadata": {},
     "output_type": "display_data"
    },
    {
     "data": {
      "application/vnd.jupyter.widget-view+json": {
       "model_id": "",
       "version_major": 2,
       "version_minor": 0
      },
      "text/plain": [
       "Download: 0.00B [00:00, ?B/s]"
      ]
     },
     "metadata": {},
     "output_type": "display_data"
    },
    {
     "data": {
      "application/vnd.jupyter.widget-view+json": {
       "model_id": "",
       "version_major": 2,
       "version_minor": 0
      },
      "text/plain": [
       "Processed: 0 rows [00:00, ? rows/s]"
      ]
     },
     "metadata": {},
     "output_type": "display_data"
    },
    {
     "data": {
      "application/vnd.jupyter.widget-view+json": {
       "model_id": "",
       "version_major": 2,
       "version_minor": 0
      },
      "text/plain": [
       "Generated: 0 rows [00:00, ? rows/s]"
      ]
     },
     "metadata": {},
     "output_type": "display_data"
    },
    {
     "name": "stderr",
     "output_type": "stream",
     "text": [
      "Exporting files to high-confidence-cats/:  75%|███████▌  | 15.0/20.0 [00:45<00:06, 1.30s/ files]"
     ]
    },
    {
     "data": {
      "application/vnd.jupyter.widget-view+json": {
       "model_id": "",
       "version_major": 2,
       "version_minor": 0
      },
      "text/plain": [
       "Cleanup:   0%|          | 0/6 [00:00<?, ? tables/s]"
      ]
     },
     "metadata": {},
     "output_type": "display_data"
    },
    {
     "name": "stderr",
     "output_type": "stream",
     "text": [
      "                                                                                                \r"
     ]
    }
   ],
   "source": [
    "from datachain import Column, DataChain\n",
    "\n",
    "meta = DataChain.from_json(\"gs://datachain-demo/dogs-and-cats/*json\", object_name=\"meta\", anon=True)\n",
    "images = DataChain.from_storage(\"gs://datachain-demo/dogs-and-cats/*jpg\", anon=True)\n",
    "\n",
    "images_id = images.map(id=lambda file: file.path.split('.')[-2])\n",
    "annotated = images_id.merge(meta, on=\"id\", right_on=\"meta.id\")\n",
    "\n",
    "likely_cats = annotated.filter((Column(\"meta.inference.confidence\") > 0.93) \\\n",
    "                               & (Column(\"meta.inference.class_\") == \"cat\"))\n",
    "likely_cats.to_storage(\"high-confidence-cats/\", signal=\"file\")"
   ]
  },
  {
   "cell_type": "markdown",
   "id": "25651ce6-7c60-400d-ba33-863337952dda",
   "metadata": {},
   "source": [
    "## data curation"
   ]
  },
  {
   "cell_type": "code",
   "execution_count": 4,
   "id": "c95f19bb-6c9e-4536-b8f3-9fae98bab12f",
   "metadata": {},
   "outputs": [
    {
     "name": "stderr",
     "output_type": "stream",
     "text": [
      "2025-03-17 17:42:52.215019: W tensorflow/stream_executor/platform/default/dso_loader.cc:64] Could not load dynamic library 'libcudart.so.11.0'; dlerror: libcudart.so.11.0: cannot open shared object file: No such file or directory\n",
      "2025-03-17 17:42:52.215053: I tensorflow/stream_executor/cuda/cudart_stub.cc:29] Ignore above cudart dlerror if you do not have a GPU set up on your machine.\n"
     ]
    },
    {
     "data": {
      "application/vnd.jupyter.widget-view+json": {
       "model_id": "09dc4ce29d5946ff9ab78c2fb9a5e11e",
       "version_major": 2,
       "version_minor": 0
      },
      "text/plain": [
       "config.json:   0%|          | 0.00/629 [00:00<?, ?B/s]"
      ]
     },
     "metadata": {},
     "output_type": "display_data"
    },
    {
     "data": {
      "application/vnd.jupyter.widget-view+json": {
       "model_id": "11b447e03346484db34789e3f08a885b",
       "version_major": 2,
       "version_minor": 0
      },
      "text/plain": [
       "model.safetensors:   0%|          | 0.00/268M [00:00<?, ?B/s]"
      ]
     },
     "metadata": {},
     "output_type": "display_data"
    },
    {
     "data": {
      "application/vnd.jupyter.widget-view+json": {
       "model_id": "f7178a0ce6c44dfea7c599a8b49d976c",
       "version_major": 2,
       "version_minor": 0
      },
      "text/plain": [
       "tokenizer_config.json:   0%|          | 0.00/48.0 [00:00<?, ?B/s]"
      ]
     },
     "metadata": {},
     "output_type": "display_data"
    },
    {
     "data": {
      "application/vnd.jupyter.widget-view+json": {
       "model_id": "9ca62695b126420fb604a029ffe220b5",
       "version_major": 2,
       "version_minor": 0
      },
      "text/plain": [
       "vocab.txt:   0%|          | 0.00/232k [00:00<?, ?B/s]"
      ]
     },
     "metadata": {},
     "output_type": "display_data"
    },
    {
     "name": "stderr",
     "output_type": "stream",
     "text": [
      "/home/jpark/www/venv_base/lib/python3.10/site-packages/transformers/tokenization_utils_base.py:1617: FutureWarning: `clean_up_tokenization_spaces` was not set. It will be set to `True` by default. This behavior will be deprecated in transformers v4.45, and will be then set to `False` by default. For more details check this issue: https://github.com/huggingface/transformers/issues/31884\n",
      "  warnings.warn(\n"
     ]
    },
    {
     "data": {
      "application/vnd.jupyter.widget-view+json": {
       "model_id": "",
       "version_major": 2,
       "version_minor": 0
      },
      "text/plain": [
       "Processed: 0 rows [00:00, ? rows/s]"
      ]
     },
     "metadata": {},
     "output_type": "display_data"
    },
    {
     "data": {
      "application/vnd.jupyter.widget-view+json": {
       "model_id": "",
       "version_major": 2,
       "version_minor": 0
      },
      "text/plain": [
       "Listing gs://datachain-demo: 0 objects [00:00, ? objects/s]"
      ]
     },
     "metadata": {},
     "output_type": "display_data"
    },
    {
     "data": {
      "application/vnd.jupyter.widget-view+json": {
       "model_id": "",
       "version_major": 2,
       "version_minor": 0
      },
      "text/plain": [
       "Generated: 0 rows [00:00, ? rows/s]"
      ]
     },
     "metadata": {},
     "output_type": "display_data"
    },
    {
     "data": {
      "application/vnd.jupyter.widget-view+json": {
       "model_id": "",
       "version_major": 2,
       "version_minor": 0
      },
      "text/plain": [
       "Cleanup:   0%|          | 0/1 [00:00<?, ? tables/s]"
      ]
     },
     "metadata": {},
     "output_type": "display_data"
    },
    {
     "data": {
      "application/vnd.jupyter.widget-view+json": {
       "model_id": "",
       "version_major": 2,
       "version_minor": 0
      },
      "text/plain": [
       "Preparing: 0 rows [00:00, ? rows/s]"
      ]
     },
     "metadata": {},
     "output_type": "display_data"
    },
    {
     "name": "stderr",
     "output_type": "stream",
     "text": [
      "2025-03-17 17:43:03.292265: W tensorflow/stream_executor/platform/default/dso_loader.cc:64] Could not load dynamic library 'libcudart.so.11.0'; dlerror: libcudart.so.11.0: cannot open shared object file: No such file or directory\n",
      "2025-03-17 17:43:03.292282: I tensorflow/stream_executor/cuda/cudart_stub.cc:29] Ignore above cudart dlerror if you do not have a GPU set up on your machine.\n",
      "2025-03-17 17:43:03.923287: W tensorflow/stream_executor/platform/default/dso_loader.cc:64] Could not load dynamic library 'libcudart.so.11.0'; dlerror: libcudart.so.11.0: cannot open shared object file: No such file or directory\n",
      "2025-03-17 17:43:03.923304: I tensorflow/stream_executor/cuda/cudart_stub.cc:29] Ignore above cudart dlerror if you do not have a GPU set up on your machine.\n",
      "2025-03-17 17:43:04.548241: W tensorflow/stream_executor/platform/default/dso_loader.cc:64] Could not load dynamic library 'libcudart.so.11.0'; dlerror: libcudart.so.11.0: cannot open shared object file: No such file or directory\n",
      "2025-03-17 17:43:04.548258: I tensorflow/stream_executor/cuda/cudart_stub.cc:29] Ignore above cudart dlerror if you do not have a GPU set up on your machine.\n",
      "2025-03-17 17:43:05.119317: W tensorflow/stream_executor/platform/default/dso_loader.cc:64] Could not load dynamic library 'libcudart.so.11.0'; dlerror: libcudart.so.11.0: cannot open shared object file: No such file or directory\n",
      "2025-03-17 17:43:05.119335: I tensorflow/stream_executor/cuda/cudart_stub.cc:29] Ignore above cudart dlerror if you do not have a GPU set up on your machine.\n",
      "2025-03-17 17:43:05.755860: W tensorflow/stream_executor/platform/default/dso_loader.cc:64] Could not load dynamic library 'libcudart.so.11.0'; dlerror: libcudart.so.11.0: cannot open shared object file: No such file or directory\n",
      "2025-03-17 17:43:05.755878: I tensorflow/stream_executor/cuda/cudart_stub.cc:29] Ignore above cudart dlerror if you do not have a GPU set up on your machine.\n",
      "2025-03-17 17:43:06.326050: W tensorflow/stream_executor/platform/default/dso_loader.cc:64] Could not load dynamic library 'libcudart.so.11.0'; dlerror: libcudart.so.11.0: cannot open shared object file: No such file or directory\n",
      "2025-03-17 17:43:06.326067: I tensorflow/stream_executor/cuda/cudart_stub.cc:29] Ignore above cudart dlerror if you do not have a GPU set up on your machine.\n",
      "2025-03-17 17:43:06.922721: W tensorflow/stream_executor/platform/default/dso_loader.cc:64] Could not load dynamic library 'libcudart.so.11.0'; dlerror: libcudart.so.11.0: cannot open shared object file: No such file or directory\n",
      "2025-03-17 17:43:06.922740: I tensorflow/stream_executor/cuda/cudart_stub.cc:29] Ignore above cudart dlerror if you do not have a GPU set up on your machine.\n",
      "Download: 56.8kB [00:00, 64.6kB/s]2025-03-17 17:43:08.885306: W tensorflow/stream_executor/platform/default/dso_loader.cc:64] Could not load dynamic library 'libcudart.so.11.0'; dlerror: libcudart.so.11.0: cannot open shared object file: No such file or directory\n",
      "2025-03-17 17:43:08.885452: I tensorflow/stream_executor/cuda/cudart_stub.cc:29] Ignore above cudart dlerror if you do not have a GPU set up on your machine.\n",
      "\n",
      "Download: 70.5kB [00:02, 15.3kB/s]]\u001b[A\n",
      "Processed: 2 rows [00:01,  1.43 rows/s]\u001b[A\n",
      "Download: 75.9kB [00:04, 9.83kB/s]ws/s]\u001b[A\n",
      "Processed: 5 rows [00:02,  2.58 rows/s]\u001b[A\n",
      "Processed: 6 rows [00:03,  1.30 rows/s]\u001b[A\n",
      "Download: 84.2kB [00:08, 5.19kB/s]ws/s]\u001b[A\n",
      "Processed: 10 rows [00:05,  1.84 rows/s]\u001b[A\n",
      "Processed: 12 rows [00:07,  1.66 rows/s]\u001b[A\n",
      "Processed: 13 rows [00:08,  1.44 rows/s]\u001b[A\n",
      "Download: 91.1kB [00:11, 3.89kB/s]ows/s]\u001b[A\n",
      "Processed: 16 rows [00:10,  1.41 rows/s]\u001b[A\n",
      "Processed: 17 rows [00:11,  1.30 rows/s]\u001b[A\n",
      "Processed: 18 rows [00:11,  1.55 rows/s]\u001b[A\n",
      "Download: 99.0kB [00:14, 3.81kB/s]ows/s]\u001b[A\n",
      "Download: 102kB [00:15, 3.16kB/s] ows/s]\u001b[A\n",
      "Processed: 21 rows [00:13,  1.25 rows/s]\u001b[A\n",
      "Download: 104kB [00:16, 2.94kB/s]rows/s]\u001b[A\n",
      "Download: 108kB [00:17, 3.74kB/s]rows/s]\u001b[A\n",
      "Download: 111kB [00:18, 3.10kB/s]rows/s]\u001b[A\n",
      "Processed: 25 rows [00:16,  1.27 rows/s]\u001b[A\n",
      "Download: 113kB [00:19, 2.70kB/s]rows/s]\u001b[A\n",
      "Download: 118kB [00:20, 4.12kB/s]rows/s]\u001b[A\n",
      "Download: 121kB [00:21, 3.68kB/s]rows/s]\u001b[A\n",
      "Download: 124kB [00:22, 3.72kB/s]rows/s]\u001b[A\n",
      "Download: 128kB [00:22, 4.70kB/s]rows/s]\u001b[A\n",
      "Download: 130kB [00:23, 4.14kB/s]rows/s]\u001b[A\n",
      "Processed: 32 rows [00:21,  1.39 rows/s]\u001b[A\n",
      "Processed: 33 rows [00:22,  1.25 rows/s]\u001b[A\n",
      "Processed: 34 rows [00:22,  1.47 rows/s]\u001b[A\n",
      "Processed: 35 rows [00:23,  1.48 rows/s]\u001b[A\n",
      "Processed: 36 rows [00:24,  1.38 rows/s]\u001b[A\n",
      "Processed: 37 rows [00:25,  1.29 rows/s]\u001b[A\n",
      "Processed: 38 rows [00:25,  1.36 rows/s]\u001b[A\n",
      "Processed: 39 rows [00:26,  1.26 rows/s]\u001b[A\n",
      "Processed: 40 rows [00:27,  1.34 rows/s]\u001b[A\n",
      "Processed: 41 rows [00:28,  1.30 rows/s]\u001b[A\n",
      "Processed: 42 rows [00:28,  1.42 rows/s]\u001b[A\n",
      "Processed: 43 rows [00:29,  1.31 rows/s]\u001b[A\n",
      "Processed: 44 rows [00:30,  1.34 rows/s]\u001b[A\n",
      "Processed: 45 rows [00:31,  1.34 rows/s]\u001b[A\n",
      "Processed: 46 rows [00:31,  1.47 rows/s]\u001b[A\n",
      "Processed: 47 rows [00:32,  1.35 rows/s]\u001b[A\n",
      "Processed: 48 rows [00:33,  1.36 rows/s]\u001b[A\n",
      "Processed: 50 rows [00:33,  1.91 rows/s]\u001b[A\n",
      "Processed: 52 rows [00:34,  2.75 rows/s]\u001b[A\n",
      "                                 rows/s]\u001b[A\n",
      "                                        \u001b[A"
     ]
    },
    {
     "data": {
      "application/vnd.jupyter.widget-view+json": {
       "model_id": "",
       "version_major": 2,
       "version_minor": 0
      },
      "text/plain": [
       "Cleanup:   0%|          | 0/2 [00:00<?, ? tables/s]"
      ]
     },
     "metadata": {},
     "output_type": "display_data"
    },
    {
     "name": "stderr",
     "output_type": "stream",
     "text": [
      "                                                                            "
     ]
    },
    {
     "name": "stdout",
     "output_type": "stream",
     "text": [
      "13 files were exported\n"
     ]
    },
    {
     "name": "stderr",
     "output_type": "stream",
     "text": [
      "\r"
     ]
    }
   ],
   "source": [
    "from transformers import pipeline\n",
    "from datachain import DataChain, Column\n",
    "\n",
    "classifier = pipeline(\"sentiment-analysis\", device=\"cpu\",\n",
    "                model=\"distilbert/distilbert-base-uncased-finetuned-sst-2-english\")\n",
    "\n",
    "def is_positive_dialogue_ending(file) -> bool:\n",
    "    dialogue_ending = file.read()[-512:]\n",
    "    return classifier(dialogue_ending)[0][\"label\"] == \"POSITIVE\"\n",
    "\n",
    "chain = (\n",
    "   DataChain.from_storage(\"gs://datachain-demo/chatbot-KiT/\",\n",
    "                          object_name=\"file\", type=\"text\", anon=True)\n",
    "   .settings(parallel=8, cache=True)\n",
    "   .map(is_positive=is_positive_dialogue_ending)\n",
    "   .save(\"file_response\")\n",
    ")\n",
    "\n",
    "positive_chain = chain.filter(Column(\"is_positive\") == True)\n",
    "positive_chain.to_storage(\"./output\")\n",
    "\n",
    "print(f\"{positive_chain.count()} files were exported\")"
   ]
  },
  {
   "cell_type": "code",
   "execution_count": null,
   "id": "fd15a598-0da6-42a1-a51a-a6b92735d120",
   "metadata": {},
   "outputs": [],
   "source": []
  }
 ],
 "metadata": {
  "kernelspec": {
   "display_name": "venv_base",
   "language": "python",
   "name": "venv_base"
  },
  "language_info": {
   "codemirror_mode": {
    "name": "ipython",
    "version": 3
   },
   "file_extension": ".py",
   "mimetype": "text/x-python",
   "name": "python",
   "nbconvert_exporter": "python",
   "pygments_lexer": "ipython3",
   "version": "3.10.12"
  }
 },
 "nbformat": 4,
 "nbformat_minor": 5
}
