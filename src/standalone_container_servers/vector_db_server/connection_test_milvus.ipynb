{
 "cells": [
  {
   "cell_type": "markdown",
   "id": "977b68dc-5a43-4e80-ad56-743027c2b98c",
   "metadata": {},
   "source": [
    "# Milvus 기반 벡터정보 시각화 예시\n",
    "\n",
    "- 출처 : https://milvus.io/docs/ko/vector_visualization.md\n",
    "- t-SNE를 사용해 Milvus의 임베딩(벡터)을 시각화하는 방법\n",
    "- t-SNE와 같은 차원 축소 기술은 로컬 구조를 유지하면서 2D 또는 3D 공간에서 복잡한 고차원 데이터를 시각화하는 데 매우 유용\n"
   ]
  },
  {
   "cell_type": "markdown",
   "id": "5fab065c-7367-4c6c-8868-078dd1828a82",
   "metadata": {},
   "source": [
    "## Milvus 연결 테스트"
   ]
  },
  {
   "cell_type": "code",
   "execution_count": 26,
   "id": "f7454dc9-f088-4c8e-a7ec-f2749c2d0ef0",
   "metadata": {},
   "outputs": [
    {
     "name": "stdout",
     "output_type": "stream",
     "text": [
      "Collection example_collection already exists.\n"
     ]
    }
   ],
   "source": [
    "from pymilvus import Collection, CollectionSchema, FieldSchema, DataType, connections, utility\n",
    "\n",
    "# Milvus 서버에 연결\n",
    "connections.connect(\"default\", host='localhost', port='19530')\n",
    "\n",
    "# 필드 스키마 정의\n",
    "fields = [\n",
    "    FieldSchema(name=\"id\", dtype=DataType.INT64, is_primary=True, auto_id=True),\n",
    "    FieldSchema(name=\"vector_field\", dtype=DataType.FLOAT_VECTOR, dim=128)\n",
    "]\n",
    "\n",
    "# 콜렉션 스키마 생성\n",
    "schema = CollectionSchema(fields, description=\"Test collection\")\n",
    "\n",
    "# 콜렉션 생성\n",
    "collection_name = \"example_collection\"\n",
    "if collection_name not in utility.list_collections():\n",
    "    collection = Collection(name=collection_name, schema=schema)\n",
    "    print(f\"Collection {collection_name} created.\")\n",
    "else:\n",
    "    print(f\"Collection {collection_name} already exists.\")\n"
   ]
  },
  {
   "cell_type": "markdown",
   "id": "179bc3e8-45c0-48ea-abc3-fded4fe16251",
   "metadata": {},
   "source": [
    "## 종속성 해결"
   ]
  },
  {
   "cell_type": "code",
   "execution_count": 27,
   "id": "7cd09f71-b8ff-4cbc-a004-c88fa4eb9539",
   "metadata": {},
   "outputs": [
    {
     "name": "stderr",
     "output_type": "stream",
     "text": [
      "huggingface/tokenizers: The current process just got forked, after parallelism has already been used. Disabling parallelism to avoid deadlocks...\n",
      "To disable this warning, you can either:\n",
      "\t- Avoid using `tokenizers` before the fork if possible\n",
      "\t- Explicitly set the environment variable TOKENIZERS_PARALLELISM=(true | false)\n"
     ]
    },
    {
     "name": "stdout",
     "output_type": "stream",
     "text": [
      "Requirement already satisfied: pymilvus in /home/jpark/www/venv_base/lib/python3.10/site-packages (2.5.4)\n",
      "Requirement already satisfied: openai in /home/jpark/www/venv_base/lib/python3.10/site-packages (1.65.4)\n",
      "Requirement already satisfied: requests in /home/jpark/www/venv_base/lib/python3.10/site-packages (2.32.3)\n",
      "Requirement already satisfied: tqdm in /home/jpark/www/venv_base/lib/python3.10/site-packages (4.67.1)\n",
      "Requirement already satisfied: matplotlib in /home/jpark/www/venv_base/lib/python3.10/site-packages (3.10.1)\n",
      "Requirement already satisfied: seaborn in /home/jpark/www/venv_base/lib/python3.10/site-packages (0.13.2)\n",
      "Requirement already satisfied: setuptools>69 in /home/jpark/www/venv_base/lib/python3.10/site-packages (from pymilvus) (75.8.2)\n",
      "Requirement already satisfied: grpcio<=1.67.1,>=1.49.1 in /home/jpark/www/venv_base/lib/python3.10/site-packages (from pymilvus) (1.66.1)\n",
      "Requirement already satisfied: protobuf>=3.20.0 in /home/jpark/www/venv_base/lib/python3.10/site-packages (from pymilvus) (3.20.3)\n",
      "Requirement already satisfied: python-dotenv<2.0.0,>=1.0.1 in /home/jpark/www/venv_base/lib/python3.10/site-packages (from pymilvus) (1.0.1)\n",
      "Requirement already satisfied: ujson>=2.0.0 in /home/jpark/www/venv_base/lib/python3.10/site-packages (from pymilvus) (5.10.0)\n",
      "Requirement already satisfied: pandas>=1.2.4 in /home/jpark/www/venv_base/lib/python3.10/site-packages (from pymilvus) (2.2.2)\n",
      "Requirement already satisfied: milvus-lite>=2.4.0 in /home/jpark/www/venv_base/lib/python3.10/site-packages (from pymilvus) (2.4.11)\n",
      "Requirement already satisfied: anyio<5,>=3.5.0 in /home/jpark/www/venv_base/lib/python3.10/site-packages (from openai) (4.4.0)\n",
      "Requirement already satisfied: distro<2,>=1.7.0 in /home/jpark/www/venv_base/lib/python3.10/site-packages (from openai) (1.9.0)\n",
      "Requirement already satisfied: httpx<1,>=0.23.0 in /home/jpark/www/venv_base/lib/python3.10/site-packages (from openai) (0.27.2)\n",
      "Requirement already satisfied: jiter<1,>=0.4.0 in /home/jpark/www/venv_base/lib/python3.10/site-packages (from openai) (0.8.2)\n",
      "Requirement already satisfied: pydantic<3,>=1.9.0 in /home/jpark/www/venv_base/lib/python3.10/site-packages (from openai) (2.9.1)\n",
      "Requirement already satisfied: sniffio in /home/jpark/www/venv_base/lib/python3.10/site-packages (from openai) (1.3.1)\n",
      "Requirement already satisfied: typing-extensions<5,>=4.11 in /home/jpark/www/venv_base/lib/python3.10/site-packages (from openai) (4.12.2)\n",
      "Requirement already satisfied: charset-normalizer<4,>=2 in /home/jpark/www/venv_base/lib/python3.10/site-packages (from requests) (3.3.2)\n",
      "Requirement already satisfied: idna<4,>=2.5 in /home/jpark/www/venv_base/lib/python3.10/site-packages (from requests) (3.8)\n",
      "Requirement already satisfied: urllib3<3,>=1.21.1 in /home/jpark/www/venv_base/lib/python3.10/site-packages (from requests) (2.2.2)\n",
      "Requirement already satisfied: certifi>=2017.4.17 in /home/jpark/www/venv_base/lib/python3.10/site-packages (from requests) (2024.8.30)\n",
      "Requirement already satisfied: contourpy>=1.0.1 in /home/jpark/www/venv_base/lib/python3.10/site-packages (from matplotlib) (1.3.0)\n",
      "Requirement already satisfied: cycler>=0.10 in /home/jpark/www/venv_base/lib/python3.10/site-packages (from matplotlib) (0.12.1)\n",
      "Requirement already satisfied: fonttools>=4.22.0 in /home/jpark/www/venv_base/lib/python3.10/site-packages (from matplotlib) (4.53.1)\n",
      "Requirement already satisfied: kiwisolver>=1.3.1 in /home/jpark/www/venv_base/lib/python3.10/site-packages (from matplotlib) (1.4.7)\n",
      "Requirement already satisfied: numpy>=1.23 in /home/jpark/www/venv_base/lib/python3.10/site-packages (from matplotlib) (1.26.4)\n",
      "Requirement already satisfied: packaging>=20.0 in /home/jpark/www/venv_base/lib/python3.10/site-packages (from matplotlib) (24.1)\n",
      "Requirement already satisfied: pillow>=8 in /home/jpark/www/venv_base/lib/python3.10/site-packages (from matplotlib) (10.4.0)\n",
      "Requirement already satisfied: pyparsing>=2.3.1 in /home/jpark/www/venv_base/lib/python3.10/site-packages (from matplotlib) (3.1.4)\n",
      "Requirement already satisfied: python-dateutil>=2.7 in /home/jpark/www/venv_base/lib/python3.10/site-packages (from matplotlib) (2.9.0.post0)\n",
      "Requirement already satisfied: exceptiongroup>=1.0.2 in /home/jpark/www/venv_base/lib/python3.10/site-packages (from anyio<5,>=3.5.0->openai) (1.2.2)\n",
      "Requirement already satisfied: httpcore==1.* in /home/jpark/www/venv_base/lib/python3.10/site-packages (from httpx<1,>=0.23.0->openai) (1.0.5)\n",
      "Requirement already satisfied: h11<0.15,>=0.13 in /home/jpark/www/venv_base/lib/python3.10/site-packages (from httpcore==1.*->httpx<1,>=0.23.0->openai) (0.14.0)\n",
      "Requirement already satisfied: pytz>=2020.1 in /home/jpark/www/venv_base/lib/python3.10/site-packages (from pandas>=1.2.4->pymilvus) (2024.2)\n",
      "Requirement already satisfied: tzdata>=2022.7 in /home/jpark/www/venv_base/lib/python3.10/site-packages (from pandas>=1.2.4->pymilvus) (2024.1)\n",
      "Requirement already satisfied: annotated-types>=0.6.0 in /home/jpark/www/venv_base/lib/python3.10/site-packages (from pydantic<3,>=1.9.0->openai) (0.7.0)\n",
      "Requirement already satisfied: pydantic-core==2.23.3 in /home/jpark/www/venv_base/lib/python3.10/site-packages (from pydantic<3,>=1.9.0->openai) (2.23.3)\n",
      "Requirement already satisfied: six>=1.5 in /home/jpark/www/venv_base/lib/python3.10/site-packages (from python-dateutil>=2.7->matplotlib) (1.16.0)\n",
      "Note: you may need to restart the kernel to use updated packages.\n"
     ]
    }
   ],
   "source": [
    "pip install --upgrade pymilvus openai requests tqdm matplotlib seaborn"
   ]
  },
  {
   "cell_type": "markdown",
   "id": "736cc3b1-3707-4872-91cc-d6c54a40c743",
   "metadata": {},
   "source": [
    "## 시험용 데이터 다운로드 및 압축 풀기"
   ]
  },
  {
   "cell_type": "markdown",
   "id": "34de28e6-ab24-401c-9d4c-c4de9919b98b",
   "metadata": {},
   "source": [
    "```bash\n",
    "$ wget https://github.com/milvus-io/milvus-docs/releases/download/v2.4.6-preview/milvus_docs_2.4.x_en.zip\n",
    "$ unzip -q milvus_docs_2.4.x_en.zip -d milvus_docs\n",
    "```"
   ]
  },
  {
   "cell_type": "markdown",
   "id": "1a9cc90a-7da8-4907-be72-3a75dc69ea97",
   "metadata": {},
   "source": [
    "## 데이터 로드\n",
    "\n",
    "- milvus_docs/en/faq 폴더에서 모든 마크다운 파일을 로드\n",
    "- 각 문서에 대해 \"#\"를 사용하여 파일의 내용을 구분하기만 하면 마크다운 파일의 각 주요 부분의 내용을 대략적으로 구분 가능\n"
   ]
  },
  {
   "cell_type": "code",
   "execution_count": 28,
   "id": "0f840d9f-cf6e-4d28-af3f-b792c8d82ce6",
   "metadata": {},
   "outputs": [],
   "source": [
    "from glob import glob\n",
    "\n",
    "text_lines = []\n",
    "\n",
    "for file_path in glob(\"milvus_docs/en/faq/*.md\", recursive=True):\n",
    "    with open(file_path, \"r\") as file:\n",
    "        file_text = file.read()\n",
    "\n",
    "    text_lines += file_text.split(\"# \")"
   ]
  },
  {
   "cell_type": "code",
   "execution_count": 30,
   "id": "35765f94-bcee-43be-8841-cf0f57ca3e93",
   "metadata": {},
   "outputs": [
    {
     "data": {
      "text/plain": [
       "72"
      ]
     },
     "execution_count": 30,
     "metadata": {},
     "output_type": "execute_result"
    }
   ],
   "source": [
    "len( text_lines )"
   ]
  },
  {
   "cell_type": "markdown",
   "id": "edf4df01-eee1-43af-b4c8-76e500ec129e",
   "metadata": {},
   "source": [
    "## 임베딩 모델 준비\n",
    "\n",
    "- 허깅페이스에서 모델 다운로드"
   ]
  },
  {
   "cell_type": "code",
   "execution_count": 32,
   "id": "9ef2d6d4-12ce-448c-8d07-a3837e4d4116",
   "metadata": {},
   "outputs": [
    {
     "name": "stdout",
     "output_type": "stream",
     "text": [
      "[ 0.01337682  0.05869813 -0.07439305 -0.06315488 -0.11086049 -0.13148424\n",
      " -0.10424639  0.15587312 -0.01671412 -0.07906346]\n"
     ]
    }
   ],
   "source": [
    "from transformers import AutoTokenizer, AutoModel\n",
    "import torch\n",
    "\n",
    "def load_model(model_name=\"sentence-transformers/all-MiniLM-L6-v2\"):\n",
    "    # 모델과 토크나이저 로드\n",
    "    tokenizer = AutoTokenizer.from_pretrained(model_name)\n",
    "    model = AutoModel.from_pretrained(model_name)\n",
    "    return tokenizer, model\n",
    "\n",
    "def emb_text(text, tokenizer, model):\n",
    "    # 텍스트를 토큰으로 변환\n",
    "    encoded_input = tokenizer(text, return_tensors='pt', padding=True, truncation=True)\n",
    "    # 모델에 입력하여 임베딩을 생성\n",
    "    with torch.no_grad():\n",
    "        model_output = model(**encoded_input)\n",
    "    # 임베딩 추출 (평균을 사용하여 문장 임베딩을 생성)\n",
    "    embeddings = model_output.last_hidden_state.mean(dim=1).squeeze().numpy()\n",
    "    return embeddings\n",
    "\n",
    "# 사용 예시\n",
    "tokenizer, model = load_model()\n",
    "text = \"여기에 분석할 텍스트를 입력하세요.\"\n",
    "embedding = emb_text(text, tokenizer, model)\n",
    "print(embedding[:10])\n"
   ]
  },
  {
   "cell_type": "code",
   "execution_count": 33,
   "id": "1f7ef5e7-6d1b-4128-b447-2440e2d3066b",
   "metadata": {},
   "outputs": [
    {
     "name": "stdout",
     "output_type": "stream",
     "text": [
      "384\n",
      "[ 0.16668403  0.07531183 -0.11349392  0.08890492 -0.05571029 -0.26127303\n",
      " -0.09427059  0.20302933  0.2498555   0.1873345 ]\n"
     ]
    }
   ],
   "source": [
    "test_embedding = emb_text(\"This is a test\", tokenizer, model)\n",
    "embedding_dim = len(test_embedding)\n",
    "print(embedding_dim)\n",
    "print(test_embedding[:10])"
   ]
  },
  {
   "cell_type": "markdown",
   "id": "ac1194ea-983b-4da4-8377-be571d1657e4",
   "metadata": {},
   "source": [
    "## Milvus에 데이터 로드\n",
    "\n",
    "- collection 생성\n"
   ]
  },
  {
   "cell_type": "code",
   "execution_count": 34,
   "id": "05073ba9-ec2d-431e-b2b1-0a0c35179c2c",
   "metadata": {},
   "outputs": [],
   "source": [
    "from pymilvus import MilvusClient\n",
    "\n",
    "milvus_client = MilvusClient(uri=\"./milvus_demo.db\")\n",
    "\n",
    "collection_name = \"my_rag_collection\""
   ]
  },
  {
   "cell_type": "markdown",
   "id": "ff3c29fd-e8ed-4b67-9086-df8c9d337548",
   "metadata": {},
   "source": [
    "### 컬렉션이 이미 존재하는지 확인하고 존재한다면 삭제"
   ]
  },
  {
   "cell_type": "code",
   "execution_count": 16,
   "id": "9cc051af-8cda-4b91-8585-29c2375561e7",
   "metadata": {},
   "outputs": [],
   "source": [
    "if milvus_client.has_collection(collection_name):\n",
    "    milvus_client.drop_collection(collection_name)"
   ]
  },
  {
   "cell_type": "markdown",
   "id": "36a7c092-43a5-4e58-801a-de2f67d2642a",
   "metadata": {},
   "source": [
    "## 지정된 파라미터로 새 컬렉션을 생성\n",
    "\n",
    "- 필드 정보를 지정하지 않으면 기본 키로 id 필드와 벡터 데이터를 저장할 vector 필드가 자동으로 생성\n",
    "- 예약된 JSON 필드는 스키마에 정의되지 않은 필드와 그 값을 저장하는 데 사용"
   ]
  },
  {
   "cell_type": "code",
   "execution_count": 35,
   "id": "c8bb9217-f170-439c-9e70-cdbd389184c9",
   "metadata": {},
   "outputs": [],
   "source": [
    "milvus_client.create_collection(\n",
    "    collection_name=collection_name,\n",
    "    dimension=embedding_dim,\n",
    "    metric_type=\"IP\",  # Inner product distance\n",
    "    consistency_level=\"Strong\",  # Strong consistency level\n",
    ")\n"
   ]
  },
  {
   "cell_type": "markdown",
   "id": "93fe4c13-a539-4bf5-85a3-6c547f02bb49",
   "metadata": {},
   "source": [
    "## 데이터 삽입\n",
    "\n",
    "- 텍스트 줄을 반복하여 임베딩을 만든 다음 데이터를 Milvus에 삽입\n",
    "- 다음은 컬렉션 스키마에 정의되지 않은 필드인 새 필드 text\n",
    "- 이 필드는 예약된 JSON 동적 필드에 자동으로 추가되며, 상위 수준에서 일반 필드로 취급될 수 있음"
   ]
  },
  {
   "cell_type": "code",
   "execution_count": 36,
   "id": "73f39600-d3d5-40d4-9f66-123678762314",
   "metadata": {},
   "outputs": [
    {
     "name": "stderr",
     "output_type": "stream",
     "text": [
      "Creating embeddings: 100%|███████████████████████████████████████████████████████████████████████████| 72/72 [00:00<00:00, 242.35it/s]\n"
     ]
    },
    {
     "data": {
      "text/plain": [
       "{'insert_count': 72, 'ids': [0, 1, 2, 3, 4, 5, 6, 7, 8, 9, 10, 11, 12, 13, 14, 15, 16, 17, 18, 19, 20, 21, 22, 23, 24, 25, 26, 27, 28, 29, 30, 31, 32, 33, 34, 35, 36, 37, 38, 39, 40, 41, 42, 43, 44, 45, 46, 47, 48, 49, 50, 51, 52, 53, 54, 55, 56, 57, 58, 59, 60, 61, 62, 63, 64, 65, 66, 67, 68, 69, 70, 71], 'cost': 0}"
      ]
     },
     "execution_count": 36,
     "metadata": {},
     "output_type": "execute_result"
    }
   ],
   "source": [
    "from tqdm import tqdm\n",
    "\n",
    "data = []\n",
    "\n",
    "for i, line in enumerate(tqdm(text_lines, desc=\"Creating embeddings\")):\n",
    "    data.append({\"id\": i, \"vector\": emb_text(line, tokenizer, model), \"text\": line})\n",
    "\n",
    "milvus_client.insert(collection_name=collection_name, data=data)\n"
   ]
  },
  {
   "cell_type": "markdown",
   "id": "9b3b386c-16cc-4bff-8f0e-7c7d451d9949",
   "metadata": {},
   "source": [
    "## 벡터 검색에서 임베딩 시각화하기\n",
    "\n",
    "### 쿼리에 대한 데이터 검색\n",
    "- 검색을 위한 질문을 준비"
   ]
  },
  {
   "cell_type": "code",
   "execution_count": 20,
   "id": "f980e47a-21d9-414a-a9ab-4a6836a055d7",
   "metadata": {},
   "outputs": [],
   "source": [
    "\n",
    "question = \"How is data stored in Milvus?\"\n"
   ]
  },
  {
   "cell_type": "markdown",
   "id": "b5b2c098-ab9b-40ab-af42-840b249c53b1",
   "metadata": {},
   "source": [
    "- 컬렉션에서 질문을 검색하고 시맨틱 상위 5개 일치 항목을 검색"
   ]
  },
  {
   "cell_type": "code",
   "execution_count": 38,
   "id": "9fb9ace7-d63a-412d-9959-3e292478872a",
   "metadata": {},
   "outputs": [],
   "source": [
    "search_res = milvus_client.search(\n",
    "    collection_name=collection_name,\n",
    "    data=[\n",
    "        emb_text(question, tokenizer, model)\n",
    "    ],  # Use the `emb_text` function to convert the question to an embedding vector\n",
    "    limit=5,  # Return top 10 results\n",
    "    search_params={\"metric_type\": \"IP\", \"params\": {}},  # Inner product distance\n",
    "    output_fields=[\"text\"],  # Return the text field\n",
    ")\n"
   ]
  },
  {
   "cell_type": "markdown",
   "id": "1d88461f-c38a-499e-9eab-d284c9ea3be8",
   "metadata": {},
   "source": [
    "- 쿼리의 검색 결과 확인"
   ]
  },
  {
   "cell_type": "code",
   "execution_count": 39,
   "id": "10de0629-9185-4cae-b6b2-8faf4bd1aa84",
   "metadata": {},
   "outputs": [
    {
     "name": "stdout",
     "output_type": "stream",
     "text": [
      "[\n",
      "    [\n",
      "        \"What data types does Milvus support on the primary key field?\\n\\nIn current release, Milvus supports both INT64 and string.\\n\\n###\",\n",
      "        16.94402313232422\n",
      "    ],\n",
      "    [\n",
      "        \"Why is there no vector data in etcd?\\n\\netcd stores Milvus module metadata; MinIO stores entities.\\n\\n###\",\n",
      "        14.801624298095703\n",
      "    ],\n",
      "    [\n",
      "        \"How does Milvus flush data?\\n\\nMilvus returns success when inserted data are loaded to the message queue. However, the data are not yet flushed to the disk. Then Milvus' data node writes the data in the message queue to persistent storage as incremental logs. If `flush()` is called, the data node is forced to write all data in the message queue to persistent storage immediately.\\n\\n###\",\n",
      "        13.231996536254883\n",
      "    ]\n",
      "]\n"
     ]
    }
   ],
   "source": [
    "import json\n",
    "\n",
    "retrieved_lines_with_distances = [\n",
    "    (res[\"entity\"][\"text\"], res[\"distance\"]) for res in search_res[0]\n",
    "]\n",
    "print(json.dumps(retrieved_lines_with_distances, indent=4))\n"
   ]
  },
  {
   "cell_type": "markdown",
   "id": "2aa8feaa-031e-4e67-88e6-7eff12201da3",
   "metadata": {},
   "source": [
    "## t-SNE를 통해 2차원으로 차원 축소"
   ]
  },
  {
   "cell_type": "code",
   "execution_count": 24,
   "id": "5a95be0f-05ca-4b6e-af73-a38489a6b305",
   "metadata": {},
   "outputs": [
    {
     "data": {
      "text/html": [
       "<div>\n",
       "<style scoped>\n",
       "    .dataframe tbody tr th:only-of-type {\n",
       "        vertical-align: middle;\n",
       "    }\n",
       "\n",
       "    .dataframe tbody tr th {\n",
       "        vertical-align: top;\n",
       "    }\n",
       "\n",
       "    .dataframe thead th {\n",
       "        text-align: right;\n",
       "    }\n",
       "</style>\n",
       "<table border=\"1\" class=\"dataframe\">\n",
       "  <thead>\n",
       "    <tr style=\"text-align: right;\">\n",
       "      <th></th>\n",
       "      <th>TSNE1</th>\n",
       "      <th>TSNE2</th>\n",
       "    </tr>\n",
       "  </thead>\n",
       "  <tbody>\n",
       "    <tr>\n",
       "      <th>0</th>\n",
       "      <td>-0.206583</td>\n",
       "      <td>8.507778</td>\n",
       "    </tr>\n",
       "    <tr>\n",
       "      <th>1</th>\n",
       "      <td>-0.155671</td>\n",
       "      <td>9.108760</td>\n",
       "    </tr>\n",
       "    <tr>\n",
       "      <th>2</th>\n",
       "      <td>-0.050293</td>\n",
       "      <td>6.767521</td>\n",
       "    </tr>\n",
       "    <tr>\n",
       "      <th>3</th>\n",
       "      <td>-0.573228</td>\n",
       "      <td>6.950219</td>\n",
       "    </tr>\n",
       "    <tr>\n",
       "      <th>4</th>\n",
       "      <td>-0.025400</td>\n",
       "      <td>7.308363</td>\n",
       "    </tr>\n",
       "    <tr>\n",
       "      <th>...</th>\n",
       "      <td>...</td>\n",
       "      <td>...</td>\n",
       "    </tr>\n",
       "    <tr>\n",
       "      <th>68</th>\n",
       "      <td>-3.896800</td>\n",
       "      <td>3.290701</td>\n",
       "    </tr>\n",
       "    <tr>\n",
       "      <th>69</th>\n",
       "      <td>-1.863917</td>\n",
       "      <td>3.702133</td>\n",
       "    </tr>\n",
       "    <tr>\n",
       "      <th>70</th>\n",
       "      <td>-3.892158</td>\n",
       "      <td>3.303068</td>\n",
       "    </tr>\n",
       "    <tr>\n",
       "      <th>71</th>\n",
       "      <td>0.373951</td>\n",
       "      <td>4.208059</td>\n",
       "    </tr>\n",
       "    <tr>\n",
       "      <th>72</th>\n",
       "      <td>-3.124330</td>\n",
       "      <td>5.463452</td>\n",
       "    </tr>\n",
       "  </tbody>\n",
       "</table>\n",
       "<p>73 rows × 2 columns</p>\n",
       "</div>"
      ],
      "text/plain": [
       "       TSNE1     TSNE2\n",
       "0  -0.206583  8.507778\n",
       "1  -0.155671  9.108760\n",
       "2  -0.050293  6.767521\n",
       "3  -0.573228  6.950219\n",
       "4  -0.025400  7.308363\n",
       "..       ...       ...\n",
       "68 -3.896800  3.290701\n",
       "69 -1.863917  3.702133\n",
       "70 -3.892158  3.303068\n",
       "71  0.373951  4.208059\n",
       "72 -3.124330  5.463452\n",
       "\n",
       "[73 rows x 2 columns]"
      ]
     },
     "execution_count": 24,
     "metadata": {},
     "output_type": "execute_result"
    }
   ],
   "source": [
    "import pandas as pd\n",
    "import numpy as np\n",
    "from sklearn.manifold import TSNE\n",
    "\n",
    "data.append({\"id\": len(data), \"vector\": emb_text(question, tokenizer, model), \"text\": question})\n",
    "embeddings = []\n",
    "for gp in data:\n",
    "    embeddings.append(gp[\"vector\"])\n",
    "\n",
    "X = np.array(embeddings, dtype=np.float32)\n",
    "tsne = TSNE(random_state=0, max_iter=1000)\n",
    "tsne_results = tsne.fit_transform(X)\n",
    "\n",
    "df_tsne = pd.DataFrame(tsne_results, columns=[\"TSNE1\", \"TSNE2\"])\n",
    "df_tsne\n"
   ]
  },
  {
   "cell_type": "markdown",
   "id": "d032805e-7e9e-491a-a678-4fc4eb717c2b",
   "metadata": {},
   "source": [
    "## 2차원 평면에서 Milvus 검색 결과 시각화"
   ]
  },
  {
   "cell_type": "code",
   "execution_count": 40,
   "id": "d86b5a62-42ac-4437-bd97-e08fc13a1064",
   "metadata": {},
   "outputs": [
    {
     "data": {
      "image/png": "[encoded data removed]",
      "text/plain": [
       "<Figure size 800x600 with 1 Axes>"
      ]
     },
     "metadata": {},
     "output_type": "display_data"
    }
   ],
   "source": [
    "import matplotlib.pyplot as plt\n",
    "import seaborn as sns\n",
    "\n",
    "similar_ids = [gp[\"id\"] for gp in search_res[0]]\n",
    "\n",
    "df_norm = df_tsne[:-1]\n",
    "\n",
    "df_query = pd.DataFrame(df_tsne.iloc[-1]).T\n",
    "\n",
    "similar_points = df_tsne[df_tsne.index.isin(similar_ids)]\n",
    "\n",
    "fig, ax = plt.subplots(figsize=(8, 6))  # Set figsize\n",
    "\n",
    "sns.set_style(\"darkgrid\", {\"grid.color\": \".6\", \"grid.linestyle\": \":\"})\n",
    "\n",
    "sns.scatterplot(\n",
    "    data=df_tsne, x=\"TSNE1\", y=\"TSNE2\", color=\"blue\", label=\"All knowledge\", ax=ax\n",
    ")\n",
    "\n",
    "sns.scatterplot(\n",
    "    data=similar_points,\n",
    "    x=\"TSNE1\",\n",
    "    y=\"TSNE2\",\n",
    "    color=\"red\",\n",
    "    label=\"Similar knowledge\",\n",
    "    ax=ax,\n",
    ")\n",
    "\n",
    "sns.scatterplot(\n",
    "    data=df_query, x=\"TSNE1\", y=\"TSNE2\", color=\"green\", label=\"Query\", ax=ax\n",
    ")\n",
    "\n",
    "plt.title(\"Scatter plot of knowledge using t-SNE\")\n",
    "plt.xlabel(\"TSNE1\")\n",
    "plt.ylabel(\"TSNE2\")\n",
    "\n",
    "plt.axis(\"equal\")\n",
    "\n",
    "plt.legend()\n",
    "\n",
    "plt.show()\n"
   ]
  },
  {
   "cell_type": "code",
   "execution_count": null,
   "id": "7f7d0d7a-181d-49aa-ba8a-4f723a37e5da",
   "metadata": {},
   "outputs": [],
   "source": []
  }
 ],
 "metadata": {
  "kernelspec": {
   "display_name": "venv_base",
   "language": "python",
   "name": "venv_base"
  },
  "language_info": {
   "codemirror_mode": {
    "name": "ipython",
    "version": 3
   },
   "file_extension": ".py",
   "mimetype": "text/x-python",
   "name": "python",
   "nbconvert_exporter": "python",
   "pygments_lexer": "ipython3",
   "version": "3.10.12"
  }
 },
 "nbformat": 4,
 "nbformat_minor": 5
}
